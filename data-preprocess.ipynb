{
 "cells": [
  {
   "cell_type": "code",
   "execution_count": null,
   "metadata": {},
   "outputs": [],
   "source": [
    "import matplotlib.image as mpimg\n",
    "import matplotlib.pyplot as plt\n",
    "import numpy as np\n",
    "import cv2\n",
    "\n",
    "image = cv2.imread('Self_Driving_Car.jpg')\n",
    "\n",
    "image.shape\n",
    "\n",
    "print ('Height of Image:', int(image.shape[0]), 'pixels')\n",
    "print ('Width of Image: ', int(image.shape[1]), 'pixels')\n",
    "\n",
    "#OpenCV uses BGR instead of RGB\n",
    "\n",
    "# 'waitKey' allows us to input information when a image window is open\n",
    "# By leaving it blank it just waits for anykey to be pressed before continuing.\n",
    "\n",
    "cv2.imshow('Self Driving Car!', image)\n",
    "cv2.waitKey()\n",
    "cv2.destroyAllWindows()\n",
    "\n",
    "# If you use plot command (not openCV)\n",
    "\n"
   ]
  }
 ],
 "metadata": {
  "language_info": {
   "name": "python"
  }
 },
 "nbformat": 4,
 "nbformat_minor": 2
}
