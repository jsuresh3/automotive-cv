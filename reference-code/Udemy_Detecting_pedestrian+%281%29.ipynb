{
  "nbformat": 4,
  "nbformat_minor": 0,
  "metadata": {
    "colab": {
      "name": "Udemy Detecting pedestrian.ipynb",
      "provenance": [],
      "collapsed_sections": []
    },
    "kernelspec": {
      "name": "python3",
      "display_name": "Python 3"
    },
    "language_info": {
      "name": "python"
    }
  },
  "cells": [
    {
      "cell_type": "markdown",
      "metadata": {
        "id": "z4fYRQKF6wZL"
      },
      "source": [
        "\n",
        "\n",
        "*   Capture frames from a video file.\n",
        "\n",
        "*   Use the first 20 frames to populate the history of a background subtractor\n",
        "\n",
        "*   Based on background subtraction, use the 21st frame to identify moving foregrond objects\n",
        "*  We will treat these as pedestrians. For each pedestrian, assign an ID and an initial tracking window and then we calculate the histogram\n",
        "\n",
        "\n",
        "*   LFor each subsequent frame, track each pedestrian uising Kalman filter and Mean shift\n",
        "\n",
        "\n",
        "Before we start to implement  we need to digest to consider programming paradigms and how they relate to our use of OpenCV.\n",
        "\n",
        "Another paradigm called FP has been gaining support among programmers who favor a purer mathematical foundation.\n",
        "\n",
        "FB allows functions to return functions and permits functions as arguments in a function.\n",
        "\n",
        "Meanshift algorithm performs tracking iteratively by computing a centroid based on probability values in the current tracking rectangle, shifting the rectangle's center to this centroid, recomputing the centroid based values in the new rectangle, shifting the rectangle again and so on.\n",
        "\n",
        "This process continues until convergence is achieved (meaning that the centroid ceases to move or nearly ceases to move) or until a maximum number of iterations is reach.\n",
        "\n",
        "Meanshift is a clustering algorithm with applications that extend beyound computer vision.\n",
        "\n",
        "Kalman filter algorithm is developed mainly by Rudolf Kalman.\n",
        "\n",
        "Practical applications in navigation systems for all any types of vehicle from nuclear submarine to aircraft.\n",
        "\n",
        "In computer vision, Kalman filter can smoothen the estimate of a tracked object's position\n"
      ]
    },
    {
      "cell_type": "code",
      "metadata": {
        "id": "sbjgfySPFahQ",
        "colab": {
          "base_uri": "https://localhost:8080/"
        },
        "outputId": "00291e0b-1d6c-4d70-9a96-d754bf2b2cbb"
      },
      "source": [
        "from google.colab import drive\n",
        "drive.mount('/content/drive')"
      ],
      "execution_count": 1,
      "outputs": [
        {
          "output_type": "stream",
          "text": [
            "Mounted at /content/drive\n"
          ],
          "name": "stdout"
        }
      ]
    },
    {
      "cell_type": "code",
      "metadata": {
        "colab": {
          "base_uri": "https://localhost:8080/"
        },
        "id": "-MCbY5ii0BJ1",
        "outputId": "a431f004-bf80-4fdf-e261-507dbf297bf1"
      },
      "source": [
        "%cd /content/drive/My Drive/Colab Notebooks"
      ],
      "execution_count": 2,
      "outputs": [
        {
          "output_type": "stream",
          "text": [
            "/content/drive/My Drive/Colab Notebooks\n"
          ],
          "name": "stdout"
        }
      ]
    },
    {
      "cell_type": "code",
      "metadata": {
        "id": "tYjGKoBL0DTT"
      },
      "source": [
        "from google.colab.patches import cv2_imshow"
      ],
      "execution_count": 3,
      "outputs": []
    },
    {
      "cell_type": "code",
      "metadata": {
        "id": "aRKubU-30HSU"
      },
      "source": [
        "import cv2\n",
        "import numpy as np\n",
        "OPENCV_MAJOR_VERSION = int(cv2.__version__.split('.')[0])"
      ],
      "execution_count": 4,
      "outputs": []
    },
    {
      "cell_type": "code",
      "metadata": {
        "id": "YN45te-T08Zg"
      },
      "source": [
        "class Pedestrian():\n",
        "    \"\"\"A tracked pedestrian with a state including an ID, tracking\n",
        "    window, histogram, and Kalman filter.\n",
        "    \"\"\"\n",
        "\n",
        "    def __init__(self, id, hsv_frame, track_window):\n",
        "\n",
        "        self.id = id\n",
        "\n",
        "        self.track_window = track_window\n",
        "        self.term_crit = \\\n",
        "            (cv2.TERM_CRITERIA_COUNT | cv2.TERM_CRITERIA_EPS, 10, 1)\n",
        "\n",
        "        # Initialize the histogram.\n",
        "        x, y, w, h = track_window\n",
        "        roi = hsv_frame[y:y+h, x:x+w]\n",
        "        roi_hist = cv2.calcHist([roi], [0], None, [16], [0, 180])\n",
        "        self.roi_hist = cv2.normalize(roi_hist, roi_hist, 0, 255,\n",
        "                                      cv2.NORM_MINMAX)\n",
        "\n",
        "        # Initialize the Kalman filter.\n",
        "        self.kalman = cv2.KalmanFilter(4, 2)\n",
        "        self.kalman.measurementMatrix = np.array(\n",
        "            [[1, 0, 0, 0],\n",
        "             [0, 1, 0, 0]], np.float32)\n",
        "        self.kalman.transitionMatrix = np.array(\n",
        "            [[1, 0, 1, 0],\n",
        "             [0, 1, 0, 1],\n",
        "             [0, 0, 1, 0],\n",
        "             [0, 0, 0, 1]], np.float32)\n",
        "        self.kalman.processNoiseCov = np.array(\n",
        "            [[1, 0, 0, 0],\n",
        "             [0, 1, 0, 0],\n",
        "             [0, 0, 1, 0],\n",
        "             [0, 0, 0, 1]], np.float32) * 0.03\n",
        "        cx = x+w/2\n",
        "        cy = y+h/2\n",
        "        self.kalman.statePre = np.array(\n",
        "            [[cx], [cy], [0], [0]], np.float32)\n",
        "        self.kalman.statePost = np.array(\n",
        "            [[cx], [cy], [0], [0]], np.float32)\n",
        "\n",
        "    def update(self, frame, hsv_frame):\n",
        "\n",
        "        back_proj = cv2.calcBackProject(\n",
        "            [hsv_frame], [0], self.roi_hist, [0, 180], 1)\n",
        "\n",
        "        ret, self.track_window = cv2.meanShift(\n",
        "            back_proj, self.track_window, self.term_crit)\n",
        "        x, y, w, h = self.track_window\n",
        "        center = np.array([x+w/2, y+h/2], np.float32)\n",
        "\n",
        "        prediction = self.kalman.predict()\n",
        "        estimate = self.kalman.correct(center)\n",
        "        center_offset = estimate[:,0][:2] - center\n",
        "        self.track_window = (x + int(center_offset[0]),\n",
        "                             y + int(center_offset[1]), w, h)\n",
        "        x, y, w, h = self.track_window\n",
        "\n",
        "        # Draw the predicted center position as a blue circle.\n",
        "        cv2.circle(frame, (int(prediction[0]), int(prediction[1])),\n",
        "                   4, (255, 0, 0), -1)\n",
        "\n",
        "        # Draw the corrected tracking window as a cyan rectangle.\n",
        "        cv2.rectangle(frame, (x,y), (x+w, y+h), (255, 255, 0), 2)\n",
        "\n",
        "        # Draw the ID above the rectangle in blue text.\n",
        "        cv2.putText(frame, 'ID: %d' % self.id, (x, y-5),\n",
        "                    cv2.FONT_HERSHEY_SIMPLEX, 0.6, (255, 0, 0),\n",
        "                    1, cv2.LINE_AA)"
      ],
      "execution_count": null,
      "outputs": []
    },
    {
      "cell_type": "markdown",
      "metadata": {
        "id": "DdvEh5A16Bie"
      },
      "source": [
        "Kalman filter can predict the postion of an object based on historical observations and can correct the prediction based on the actual data. However, it can only do this for 1 object.\n",
        "\n",
        "That is why we need one Kalman filter for each object which will be tracked.\n",
        "\n",
        "Tracking window will be used by the MeanShift algorithm\n",
        "\n",
        "We will display the ID of pedestrians so it will be easier to distinguish between all of the pedestrians"
      ]
    }
  ]
}