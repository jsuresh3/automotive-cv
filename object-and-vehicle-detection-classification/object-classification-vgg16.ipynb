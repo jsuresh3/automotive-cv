{
 "cells": [
  {
   "cell_type": "code",
   "execution_count": 2,
   "metadata": {},
   "outputs": [
    {
     "name": "stdout",
     "output_type": "stream",
     "text": [
      "Number of GPUs Available for TensorFlow:  1\n"
     ]
    }
   ],
   "source": [
    "import matplotlib.pyplot as plt\n",
    "import matplotlib.image as mpimg\n",
    "import numpy as np\n",
    "import pandas as pd\n",
    "import seaborn as sns\n",
    "import cv2\n",
    "import time\n",
    "import glob\n",
    "import joblib\n",
    "import pickle\n",
    "import random\n",
    "import warnings\n",
    "import tensorflow as tf\n",
    "from PIL import Image\n",
    "from joblib import dump, load\n",
    "from tensorflow.keras.models import Sequential\n",
    "from tensorflow.keras.layers import Input, Dense, Activation, Dropout, Conv2D, Flatten, MaxPooling2D\n",
    "from tensorflow.keras.preprocessing import image\n",
    "from tensorflow.keras.optimizers import Adam\n",
    "from tensorflow.keras.callbacks import TensorBoard, ModelCheckpoint, EarlyStopping\n",
    "from tensorflow.keras.regularizers import l2\n",
    "from sklearn.model_selection import train_test_split, StratifiedShuffleSplit\n",
    "from sklearn.metrics import classification_report, confusion_matrix\n",
    "from skimage.feature import hog\n",
    "from sklearn.utils import shuffle\n",
    "from skimage.color import rgb2gray\n",
    "\n",
    "print(\"Number of GPUs Available for TensorFlow: \", len(tf.config.experimental.list_physical_devices('GPU')))"
   ]
  },
  {
   "cell_type": "code",
   "execution_count": 3,
   "metadata": {},
   "outputs": [
    {
     "name": "stdout",
     "output_type": "stream",
     "text": [
      "Images with ambulance: 248\n",
      "Images with bus: 359\n",
      "Images with car: 29236\n",
      "Images with crosswalk: 131\n",
      "Images with cyclist: 1671\n",
      "Images with dont care: 7079\n",
      "Images with fire hydrant: 103\n",
      "Images with green forward traffic light: 78\n",
      "Images with green advance left traffic light: 249\n",
      "Images with green traffic light: 2674\n",
      "Images with misc: 639\n",
      "Images with motorcycle: 273\n",
      "Images with no object: 17961\n",
      "Images with pedestrian: 7311\n",
      "Images with person: 666\n",
      "Images with red advance left traffic light: 110\n",
      "Images with red traffic light: 2729\n",
      "Images with scooter: 90\n",
      "Images with stop sign: 54\n",
      "Images with traffic cone: 87\n",
      "Images with tram: 687\n",
      "Images with truck: 1396\n",
      "Images with van: 2560\n",
      "Images with yellow traffic light: 102\n",
      "Images with yellow advance left traffic light: 33\n"
     ]
    }
   ],
   "source": [
    "# Function to filter out images smaller than a specified width and height\n",
    "def filter_small_images(image_paths, min_width=32, min_height=32):\n",
    "    \"\"\"Filter out images smaller than the specified min_width and min_height.\"\"\"\n",
    "    filtered_paths = []\n",
    "    for path in image_paths:\n",
    "        with Image.open(path) as img:\n",
    "            width, height = img.size\n",
    "            if width >= min_width and height >= min_height:\n",
    "                filtered_paths.append(path)\n",
    "    return filtered_paths\n",
    "\n",
    "# Function to retrieve images from a directory\n",
    "def get_images_from_directory(directory, extensions):\n",
    "    \"\"\"Retrieve images with specified extensions from a directory.\"\"\"\n",
    "    images = []\n",
    "    for ext in extensions:\n",
    "        images.extend(glob.glob(f'{directory}/*.{ext}'))\n",
    "    return images\n",
    "\n",
    "# Specify common image extensions\n",
    "extensions = ['png', 'jpg']\n",
    "\n",
    "# Specify the categories of images\n",
    "categories = [\n",
    "    'ambulance', 'bus', 'car', 'crosswalk', 'cyclist', 'dont-care', 'fire-hydrant',\n",
    "    'green-forward-traffic-light', 'green-advance-left-traffic-light', 'green-traffic-light',\n",
    "    'misc', 'motorcycle', 'no-object', 'pedestrian', 'person', 'red-advance-left-traffic-light',\n",
    "    'red-traffic-light', 'scooter', 'stop-sign', 'traffic-cone', 'tram', 'truck', 'van',\n",
    "    'yellow-traffic-light', 'yellow-advance-left-traffic-light'\n",
    "]\n",
    "\n",
    "image_data = {}\n",
    "\n",
    "# Load images from directories into arrays\n",
    "for category in categories:\n",
    "    images = filter_small_images(get_images_from_directory(f'..\\\\datasets\\\\classification-full\\\\cropped-images\\\\{category}', extensions))\n",
    "    image_data[category] = images\n",
    "    print(f'Images with {category.replace(\"-\", \" \")}: {len(images)}')"
   ]
  },
  {
   "cell_type": "code",
   "execution_count": 4,
   "metadata": {},
   "outputs": [
    {
     "name": "stdout",
     "output_type": "stream",
     "text": [
      "HOG images shape: (76526, 64, 64, 1)\n",
      "Labels shape: (76526,)\n"
     ]
    }
   ],
   "source": [
    "X_hog_images = []\n",
    "y_labels = []\n",
    "\n",
    "for i, category in enumerate(categories):\n",
    "    for path in image_data[category]:\n",
    "        image_colour = mpimg.imread(path)\n",
    "        image_colour = cv2.resize(image_colour, (64, 64))  # Resize image to 64x64\n",
    "        image_grey = cv2.cvtColor(image_colour, cv2.COLOR_BGR2GRAY)\n",
    "        hog_feature, hog_img = hog(image_colour[:,:,0], \n",
    "                                   orientations=11,\n",
    "                                   pixels_per_cell=(16, 16), \n",
    "                                   cells_per_block=(2, 2),  \n",
    "                                   transform_sqrt=False,\n",
    "                                   visualize=True, \n",
    "                                   feature_vector=False)\n",
    "        X_hog_images.append(hog_img)\n",
    "        y_labels.append(i)\n",
    "\n",
    "X_hog_images = np.array(X_hog_images)\n",
    "X_hog_images = X_hog_images.reshape(X_hog_images.shape[0], 64, 64, 1)  # Reshape for CNN input\n",
    "y_labels = np.array(y_labels)\n",
    "\n",
    "print(f'HOG images shape: {X_hog_images.shape}')\n",
    "print(f'HOG Labels shape: {y_labels.shape}')"
   ]
  },
  {
   "cell_type": "code",
   "execution_count": 7,
   "metadata": {},
   "outputs": [
    {
     "name": "stdout",
     "output_type": "stream",
     "text": [
      "Train features shape: (57394, 64, 64, 1)\n",
      "Train labels shape: (57394,)\n",
      "Test features shape: (19132, 64, 64, 1)\n",
      "Test labels shape: (19132,)\n"
     ]
    }
   ],
   "source": [
    "X = X_hog_images\n",
    "y = y_labels\n",
    "# with open(\"output.txt\", \"w\") as file:\n",
    "#     for i in y:\n",
    "#         file.write(str(i) + \"\\n\")\n",
    "\n",
    "#y = tf.keras.utils.to_categorical(y, 10)\n",
    "\n",
    "X, y = shuffle(X, y)\n",
    "\n",
    "# with open(\"output2.txt\", \"w\") as file:\n",
    "#     for i in y:\n",
    "#         file.write(str(i) + \"\\n\")\n",
    "\n",
    "X_train, X_test, y_train, y_test = train_test_split(X, y, test_size=0.25, random_state=101)\n",
    "\n",
    "# Data Preparation\n",
    "# Shuffle the dataset\n",
    "#X_train, y_train = shuffle(X_train, y_train)\n",
    "#X_test, y_test = shuffle(X_test, y_test)\n",
    "\n",
    "print(f'Train features shape: {X_train.shape}')\n",
    "print(f'Train labels shape: {y_train.shape}')\n",
    "print(f'Test features shape: {X_test.shape}')\n",
    "print(f'Test labels shape: {y_test.shape}')\n",
    "\n",
    "# # Convert the images to grayscale\n",
    "X_train_gray = np.sum(X_train/3, axis = 3, keepdims = True)\n",
    "X_test_gray = np.sum(X_test/3, axis = 3, keepdims = True)\n",
    "\n",
    "# # Normalize the images\n",
    "X_train_gray_normalized = (X_train_gray - 128)/128\n",
    "X_test_gray_normalized = (X_test_gray - 128)/128\n",
    "\n",
    "#print(X_train_gray_normalized.shape)\n",
    "#print(X_test_gray_normalized.shape)"
   ]
  },
  {
   "cell_type": "code",
   "execution_count": 8,
   "metadata": {},
   "outputs": [
    {
     "name": "stdout",
     "output_type": "stream",
     "text": [
      "class: truck\n",
      "class: van\n",
      "class: red-traffic-light\n",
      "class: green-traffic-light\n",
      "class: red-traffic-light\n",
      "class: car\n",
      "class: no-object\n",
      "class: no-object\n",
      "class: car\n",
      "class: no-object\n",
      "class: green-traffic-light\n",
      "class: van\n",
      "class: dont-care\n",
      "class: car\n",
      "class: car\n",
      "class: no-object\n",
      "class: no-object\n",
      "class: no-object\n",
      "class: pedestrian\n",
      "class: no-object\n",
      "class: car\n",
      "class: van\n",
      "class: van\n",
      "class: no-object\n",
      "class: pedestrian\n"
     ]
    },
    {
     "data": {
      "image/png": "[encoded data removed]",
      "text/plain": [
       "<Figure size 640x480 with 25 Axes>"
      ]
     },
     "metadata": {},
     "output_type": "display_data"
    }
   ],
   "source": [
    "fig, axes = plt.subplots(5, 5)\n",
    "fig.subplots_adjust(hspace=0.6, wspace=0.8)\n",
    "\n",
    "for i, ax in enumerate(axes.flat):\n",
    "    ax.imshow(X_train[i])\n",
    "\n",
    "    xlabel = \"class: {0}\".format(categories[int(y_train[i])])\n",
    "    print(xlabel)\n",
    "\n",
    "    # Show the classes as the label on the x-axis\n",
    "    ax.set_xlabel(xlabel)\n",
    "\n",
    "    # Remove ticks from the plot\n",
    "    ax.set_xticks([])\n",
    "    ax.set_yticks([])"
   ]
  },
  {
   "cell_type": "code",
   "execution_count": 9,
   "metadata": {},
   "outputs": [
    {
     "name": "stdout",
     "output_type": "stream",
     "text": [
      "Epoch 1/200\n",
      "808/808 [==============================] - ETA: 0s - loss: 3.0379 - accuracy: 0.3798\n",
      "Epoch 1: val_loss improved from inf to 2.11584, saving model to ..\\saved-models\\best_vgg16_model.hdf5\n",
      "808/808 [==============================] - 1281s 1s/step - loss: 3.0379 - accuracy: 0.3798 - val_loss: 2.1158 - val_accuracy: 0.3819\n",
      "Epoch 2/200\n",
      "461/808 [================>.............] - ETA: 7:20 - loss: 2.0612 - accuracy: 0.3808"
     ]
    }
   ],
   "source": [
    "image_shape = X_train[i].shape\n",
    "\n",
    "l2_reg = 0.001\n",
    "\n",
    "vgg16_model = Sequential([\n",
    "        Input(shape = image_shape),\n",
    "        Conv2D(64, (3, 3), activation='relu', padding='same', kernel_regularizer=l2(l2_reg)),\n",
    "        Conv2D(64, (3, 3), activation='relu', padding='same', kernel_regularizer=l2(l2_reg)),\n",
    "        MaxPooling2D(pool_size=(2, 2), strides=(2, 2)),\n",
    "\n",
    "        Conv2D(128, (3, 3), activation='relu', padding='same', kernel_regularizer=l2(l2_reg)),\n",
    "        Conv2D(128, (3, 3), activation='relu', padding='same', kernel_regularizer=l2(l2_reg)),\n",
    "        MaxPooling2D(pool_size=(2, 2), strides=(2, 2)),\n",
    "\n",
    "        Conv2D(256, (3, 3), activation='relu', padding='same', kernel_regularizer=l2(l2_reg)),\n",
    "        Conv2D(256, (3, 3), activation='relu', padding='same', kernel_regularizer=l2(l2_reg)),\n",
    "        Conv2D(256, (3, 3), activation='relu', padding='same', kernel_regularizer=l2(l2_reg)),\n",
    "        MaxPooling2D(pool_size=(2, 2), strides=(2, 2)),\n",
    "\n",
    "        Conv2D(512, (3, 3), activation='relu', padding='same', kernel_regularizer=l2(l2_reg)),\n",
    "        Conv2D(512, (3, 3), activation='relu', padding='same', kernel_regularizer=l2(l2_reg)),\n",
    "        Conv2D(512, (3, 3), activation='relu', padding='same', kernel_regularizer=l2(l2_reg)),\n",
    "        MaxPooling2D(pool_size=(2, 2), strides=(2, 2)),\n",
    "\n",
    "        Conv2D(512, (3, 3), activation='relu', padding='same', kernel_regularizer=l2(l2_reg)),\n",
    "        Conv2D(512, (3, 3), activation='relu', padding='same', kernel_regularizer=l2(l2_reg)),\n",
    "        Conv2D(512, (3, 3), activation='relu', padding='same', kernel_regularizer=l2(l2_reg)),\n",
    "        MaxPooling2D(pool_size=(2, 2), strides=(2, 2)),\n",
    "\n",
    "        Flatten(),\n",
    "        Dense(4096, activation='relu', kernel_regularizer=l2(l2_reg)),\n",
    "        Dropout(0.5),\n",
    "        Dense(4096, activation='relu', kernel_regularizer=l2(l2_reg)),\n",
    "        Dropout(0.5),\n",
    "        Dense(25, activation='sigmoid') # 25 classes in the dataset\n",
    "    ])\n",
    "\n",
    "# specify the path to save the model\n",
    "checkpoints_filepath = \"..\\\\saved-models\\\\best_vgg16_model.hdf5\"\n",
    "\n",
    "# initialize the ModelCheckpoint callback\n",
    "checkpoints = ModelCheckpoint(checkpoints_filepath, monitor='val_loss', verbose=1, save_best_only=True, mode='min')\n",
    "\n",
    "vgg16_model.compile(loss = 'sparse_categorical_crossentropy', optimizer = Adam(learning_rate = 0.001), metrics = ['accuracy'])\n",
    "\n",
    "model_training_time_label = 'VGG16 object classification training time: '\n",
    "\n",
    "# Record the time it takes to train the model\n",
    "start_time = time.time()\n",
    "\n",
    "early_stopper = EarlyStopping(monitor = 'val_loss', min_delta = 0.01, patience = 10, verbose = 1, mode = 'auto', restore_best_weights=True)\n",
    "\n",
    "history = vgg16_model.fit(X_train, y_train, \n",
    "                        batch_size = 64, \n",
    "                        epochs = 200, \n",
    "                        verbose = 1, \n",
    "                        validation_split = (0.1),\n",
    "                        callbacks = [checkpoints, early_stopper])\n",
    "\n",
    "end_time = time.time()\n",
    "\n",
    "training_time = end_time - start_time\n",
    "\n",
    "# Output the training time into the file\n",
    "with open('..\\\\model-comparison-metrics', 'a') as f:\n",
    "    f.write(f'{model_training_time_label}{training_time}\\\\n')\n",
    "\n",
    "print(\"Training time: {0}\".format(training_time))\n",
    "\n",
    "# Output model summary\n",
    "vgg16_model.summary()\n",
    "\n",
    "# Ouput test accuracy\n",
    "score = vgg16_model.evaluate(X_test, y_test, verbose = 0)\n",
    "print('Test Accuracy: {}'.format(score[1]))\n",
    "\n",
    "\n",
    "\n",
    "# X_train = X_train.astype('float32')\n",
    "# X_test = X_test.astype('float32')\n",
    "# X_train /= 255\n",
    "# X_test /= 255\n",
    "\n",
    "# opt = tf.keras.optimizers.RMSprop(learning_rate = 0.0001, decay = 1e-6)\n",
    "\n",
    "# model = createModel(X_train.shape[1:])\n",
    "\n",
    "# model.compile(loss='categorical_crossentropy', optimizer=opt, metrics=['accuracy'])\n",
    "\n",
    "# model.summary()"
   ]
  },
  {
   "cell_type": "code",
   "execution_count": null,
   "metadata": {},
   "outputs": [],
   "source": [
    "%matplotlib inline\n",
    "accuracy = history.history['accuracy']\n",
    "validation_accuracy = history.history['val_accuracy']\n",
    "loss = history.history['loss']\n",
    "validation_loss = history.history['val_loss']\n",
    "epochs = range(len(accuracy))\n",
    "\n",
    "plt.plot(epochs, accuracy, 'bo', label = 'Training Accuracy')\n",
    "plt.plot(epochs, validation_accuracy, 'b', label = 'Validation Accuracy')\n",
    "plt.title('Training and Validation Accuracy')\n",
    "plt.legend()\n",
    "plt.figure()\n",
    "\n",
    "plt.plot(epochs, loss, 'bo', label = 'Training Loss')\n",
    "plt.plot(epochs, validation_loss, 'b', label = 'Validation Loss')\n",
    "plt.title('Training and Validation Loss')\n",
    "plt.legend()\n",
    "plt.show()"
   ]
  },
  {
   "cell_type": "code",
   "execution_count": null,
   "metadata": {},
   "outputs": [],
   "source": [
    "model_prediction_time_label = 'CNN object classification prediction time: '\n",
    "\n",
    "# Record the prediction time\n",
    "start_time = time.time()\n",
    "\n",
    "# Get the predictions for the test data\n",
    "y_predicted = vgg16_model.predict(X_test)\n",
    "\n",
    "# Use this for Multi-class classification\n",
    "y_predicted_classes = np.argmax(y_predicted, axis=1)\n",
    "\n",
    "# Use this for Multi-class classification\n",
    "# y_predict_classes = np.argmax(y_predict, axis=1) # Try removing argmax and see what happens\n",
    "\n",
    "# Use this for Binary classification\n",
    "#predicted_classes = cnn_model.predict(X_test_gray_normalized)\n",
    "\n",
    "# Get the indices to be plotted\n",
    "y_true = y_test\n",
    "correct = np.nonzero(y_predicted_classes == y_true)\n",
    "incorrect = np.nonzero(y_predicted_classes != y_true)\n",
    "\n",
    "# Mark the end time for prediction\n",
    "end_time = time.time()\n",
    "\n",
    "# Calculate prediction time\n",
    "prediction_time = end_time - start_time\n",
    "\n",
    "# Output the prediction time into the file\n",
    "with open('model-comparison-metrics', 'a') as f:\n",
    "    f.write(f'{model_prediction_time_label}{prediction_time}\\\\n')\n",
    "\n",
    "print(\"Prediction time: {0}\".format(prediction_time))"
   ]
  },
  {
   "cell_type": "code",
   "execution_count": null,
   "metadata": {},
   "outputs": [],
   "source": [
    "cm = confusion_matrix(y_test, y_predicted_classes)\n",
    "sns.heatmap(cm, annot=True, fmt='d')\n",
    "print(classification_report(y_test, y_predicted_classes))"
   ]
  },
  {
   "cell_type": "code",
   "execution_count": null,
   "metadata": {},
   "outputs": [],
   "source": [
    "scores = vgg16_model.evaluate(X_test, y_test, verbose=1)\n",
    "print('Test loss:', scores[0])\n",
    "print('Test accuracy:', scores[1])"
   ]
  },
  {
   "cell_type": "code",
   "execution_count": null,
   "metadata": {},
   "outputs": [],
   "source": [
    "for x in range(10):\n",
    "    test_image = X_test[x,:]\n",
    "    predicted_cat = vgg16_model.predict(np.array([test_image])) # argmax returns the index of the max value\n",
    "    label = y_test[x].argmax()\n",
    "    if (predicted_cat != label):\n",
    "        plt.title(f\"Predicted: {class_names[predicted_cat]}, Label: {class_names[label]}\")\n",
    "        plt.imshow(test_image)\n",
    "        plt.show()"
   ]
  },
  {
   "cell_type": "code",
   "execution_count": null,
   "metadata": {},
   "outputs": [],
   "source": [
    "model_path = '..\\\\saved-models\\\\object-classification-vgg16.pkl'  # replace with the path to your model\n",
    "dump(vgg16_model, model_path) # Save the model\n",
    "#model = load(model_path)"
   ]
  },
  {
   "cell_type": "code",
   "execution_count": null,
   "metadata": {},
   "outputs": [],
   "source": [
    "video_path = 'TestSets/Videos/1.mp4'\n",
    "video_path_out = '{}_out.mp4'.format(video_path)\n",
    "\n",
    "cap = cv2.VideoCapture(video_path)\n",
    "ret, frame = cap.read()\n",
    "out = cv2.VideoWriter(video_path_out, cv2.VideoWriter_fourcc(*'mp4v'), 30, (frame.shape[1], frame.shape[0]))\n",
    "\n",
    "\n",
    "while ret:\n",
    "\n",
    "    results = vgg16_model(frame)[0]\n",
    "    threshold = 0.3\n",
    "    for result in results.boxes.data.tolist():\n",
    "        print(len(result))\n",
    "        x1, y1, x2, y2, score, class_id = result\n",
    "\n",
    "        if score > threshold:\n",
    "            cv2.rectangle(frame, (int(x1), int(y1)), (int(x2), int(y2)), (0, 255, 0), 4)\n",
    "            cv2.putText(frame, results.names[int(class_id)].upper()+(str(score)), (int(x1), int(y1 - 10)),\n",
    "                        cv2.FONT_HERSHEY_SIMPLEX, 1.3, (0, 255, 0), 3, cv2.LINE_AA)\n",
    "\n",
    "    out.write(frame)\n",
    "    ret, frame = cap.read()\n",
    "\n",
    "cap.release()\n",
    "out.release()\n",
    "cv2.destroyAllWindows()"
   ]
  },
  {
   "cell_type": "code",
   "execution_count": null,
   "metadata": {},
   "outputs": [],
   "source": [
    "def filter_small_images(image_paths, min_width=32, min_height=32):\n",
    "    \"\"\"Filter out images smaller than the specified min_width and min_height.\"\"\"\n",
    "    filtered_paths = []\n",
    "    for path in image_paths:\n",
    "        with Image.open(path) as img:\n",
    "            width, height = img.size\n",
    "            if width >= min_width and height >= min_height:\n",
    "                filtered_paths.append(path)\n",
    "    return filtered_paths\n",
    "\n",
    "def get_images_from_directory(directory, extensions):\n",
    "    \"\"\"Retrieve images with specified extensions from a directory.\"\"\"\n",
    "    images = []\n",
    "    for ext in extensions:\n",
    "        images.extend(glob.glob(f'{directory}/*.{ext}'))\n",
    "    return images\n",
    "\n",
    "# Specify common image extensions\n",
    "extensions = ['png', 'jpg']\n",
    "\n",
    "categories = [\n",
    "    'ambulance', 'bus', 'car', 'crosswalk', 'cyclist', 'dont-care', 'fire-hydrant',\n",
    "    'green-forward-traffic-light', 'green-advance-left-traffic-light', 'green-traffic-light',\n",
    "    'misc', 'motorcycle', 'no-object', 'pedestrian', 'person_sitting', 'red-advance-left-traffic-light',\n",
    "    'red-traffic-light', 'scooter', 'stop-sign', 'traffic-cone', 'tram', 'truck', 'van',\n",
    "    'yellow-traffic-light', 'yellow-advance-left-traffic-light'\n",
    "]\n",
    "\n",
    "image_data = {}\n",
    "\n",
    "for category in categories:\n",
    "    images = filter_small_images(get_images_from_directory(f'..\\\\datasets\\\\classification-full\\\\cropped-images\\\\{category}', extensions))\n",
    "    image_data[category] = images\n",
    "    print(f'Images with {category.replace(\"-\", \" \")}: {len(images)}')"
   ]
  },
  {
   "cell_type": "markdown",
   "metadata": {},
   "source": [
    "CODE ENDS HERE"
   ]
  },
  {
   "cell_type": "code",
   "execution_count": null,
   "metadata": {},
   "outputs": [
    {
     "name": "stdout",
     "output_type": "stream",
     "text": [
      "(8792, 396)\n",
      "(8792,)\n",
      "[1. 1. 1. ... 1. 1. 1.]\n"
     ]
    }
   ],
   "source": [
    "car_hog_accum = []\n",
    "\n",
    "for i in car:\n",
    "    image_colour = mpimg.imread(i)\n",
    "    image_grey = cv2.cvtColor(image_colour, cv2.COLOR_BGR2GRAY)\n",
    "    car_hog_feature, car_hog_img = hog(image_colour[:,:,0], \n",
    "                                    orientations=11,\n",
    "                                    pixels_per_cell=(16, 16), \n",
    "                                    cells_per_block=(2, 2),  \n",
    "                                    transform_sqrt=False,\n",
    "                                    visualize=True, \n",
    "                                    feature_vector=True) #True\n",
    "    \n",
    "    car_hog_accum.append(car_hog_feature)\n",
    "\n",
    "X_car = np.vstack(car_hog_accum).astype(np.float64)\n",
    "y_car = np.ones(len(X_car))\n",
    "\n",
    "print(X_car.shape)\n",
    "print(y_car.shape)\n",
    "print(y_car)"
   ]
  },
  {
   "cell_type": "code",
   "execution_count": null,
   "metadata": {},
   "outputs": [
    {
     "name": "stdout",
     "output_type": "stream",
     "text": [
      "(8968, 396)\n",
      "(8968,)\n",
      "[0. 0. 0. ... 0. 0. 0.]\n"
     ]
    }
   ],
   "source": [
    "no_object_hog_accum = []\n",
    "\n",
    "for i in no_object:\n",
    "    image_colour = mpimg.imread(i)\n",
    "    image_grey = cv2.cvtColor(image_colour, cv2.COLOR_BGR2GRAY)\n",
    "    no_object_hog_feature, no_object_hog_img = hog(image_colour[:,:,0], \n",
    "                                    orientations=11,\n",
    "                                    pixels_per_cell=(16, 16), \n",
    "                                    cells_per_block=(2, 2),  \n",
    "                                    transform_sqrt=False,\n",
    "                                    visualize=True, \n",
    "                                    feature_vector=True) #True\n",
    "    \n",
    "    no_object_hog_accum.append(no_object_hog_feature)\n",
    "\n",
    "X_no_object = np.vstack(no_object_hog_accum).astype(np.float64)\n",
    "y_no_object = np.zeros(len(X_no_object))\n",
    "\n",
    "print(X_no_object.shape)\n",
    "print(y_no_object.shape)\n",
    "print(y_no_object)"
   ]
  },
  {
   "cell_type": "code",
   "execution_count": null,
   "metadata": {},
   "outputs": [
    {
     "name": "stdout",
     "output_type": "stream",
     "text": [
      "(1593, 396)\n",
      "(1593,)\n",
      "[2 2 2 ... 2 2 2]\n"
     ]
    }
   ],
   "source": [
    "cyclist_hog_accum = []\n",
    "\n",
    "for i in cyclist:\n",
    "    image_colour = mpimg.imread(i)\n",
    "    image_colour = cv2.resize(image_colour, (64, 64))  # Resize image to 64x64\n",
    "    image_grey = cv2.cvtColor(image_colour, cv2.COLOR_BGR2GRAY)\n",
    "    \n",
    "    cyclist_hog_feature, cyclist_hog_img = hog(image_colour[:,:,0], \n",
    "                                    orientations=11,\n",
    "                                    pixels_per_cell=(16, 16), \n",
    "                                    cells_per_block=(2, 2),  \n",
    "                                    transform_sqrt=False,\n",
    "                                    visualize=True, \n",
    "                                    feature_vector=True) #True\n",
    "    \n",
    "    cyclist_hog_accum.append(cyclist_hog_feature)\n",
    "\n",
    "X_cyclist = np.vstack(cyclist_hog_accum).astype(np.float64)\n",
    "y_cyclist = np.full(len(X_cyclist), 2)\n",
    "\n",
    "print(X_cyclist.shape)\n",
    "print(y_cyclist.shape)\n",
    "print(y_cyclist)"
   ]
  },
  {
   "cell_type": "code",
   "execution_count": null,
   "metadata": {},
   "outputs": [
    {
     "name": "stdout",
     "output_type": "stream",
     "text": [
      "(7311, 396)\n",
      "(7311,)\n",
      "[3 3 3 ... 3 3 3]\n"
     ]
    }
   ],
   "source": [
    "pedestrian_hog_accum = []\n",
    "\n",
    "for i in pedestrian:\n",
    "    image_colour = mpimg.imread(i)\n",
    "    image_colour = cv2.resize(image_colour, (64, 64))  # Resize image to 64x64\n",
    "    image_grey = cv2.cvtColor(image_colour, cv2.COLOR_BGR2GRAY)\n",
    "    pedestrian_hog_feature, pedestrian_hog_img = hog(image_colour[:,:,0], \n",
    "                                    orientations=11,\n",
    "                                    pixels_per_cell=(16, 16), \n",
    "                                    cells_per_block=(2, 2),  \n",
    "                                    transform_sqrt=False,\n",
    "                                    visualize=True, \n",
    "                                    feature_vector=True) #True\n",
    "    \n",
    "    pedestrian_hog_accum.append(pedestrian_hog_feature)\n",
    "\n",
    "X_pedestrian = np.vstack(pedestrian_hog_accum).astype(np.float64)\n",
    "y_pedestrian = np.full(len(X_pedestrian), 3)\n",
    "\n",
    "print(X_pedestrian.shape)\n",
    "print(y_pedestrian.shape)\n",
    "print(y_pedestrian)"
   ]
  },
  {
   "cell_type": "code",
   "execution_count": null,
   "metadata": {},
   "outputs": [
    {
     "name": "stdout",
     "output_type": "stream",
     "text": [
      "(570, 396)\n",
      "(570,)\n",
      "[4 4 4 4 4 4 4 4 4 4 4 4 4 4 4 4 4 4 4 4 4 4 4 4 4 4 4 4 4 4 4 4 4 4 4 4 4\n",
      " 4 4 4 4 4 4 4 4 4 4 4 4 4 4 4 4 4 4 4 4 4 4 4 4 4 4 4 4 4 4 4 4 4 4 4 4 4\n",
      " 4 4 4 4 4 4 4 4 4 4 4 4 4 4 4 4 4 4 4 4 4 4 4 4 4 4 4 4 4 4 4 4 4 4 4 4 4\n",
      " 4 4 4 4 4 4 4 4 4 4 4 4 4 4 4 4 4 4 4 4 4 4 4 4 4 4 4 4 4 4 4 4 4 4 4 4 4\n",
      " 4 4 4 4 4 4 4 4 4 4 4 4 4 4 4 4 4 4 4 4 4 4 4 4 4 4 4 4 4 4 4 4 4 4 4 4 4\n",
      " 4 4 4 4 4 4 4 4 4 4 4 4 4 4 4 4 4 4 4 4 4 4 4 4 4 4 4 4 4 4 4 4 4 4 4 4 4\n",
      " 4 4 4 4 4 4 4 4 4 4 4 4 4 4 4 4 4 4 4 4 4 4 4 4 4 4 4 4 4 4 4 4 4 4 4 4 4\n",
      " 4 4 4 4 4 4 4 4 4 4 4 4 4 4 4 4 4 4 4 4 4 4 4 4 4 4 4 4 4 4 4 4 4 4 4 4 4\n",
      " 4 4 4 4 4 4 4 4 4 4 4 4 4 4 4 4 4 4 4 4 4 4 4 4 4 4 4 4 4 4 4 4 4 4 4 4 4\n",
      " 4 4 4 4 4 4 4 4 4 4 4 4 4 4 4 4 4 4 4 4 4 4 4 4 4 4 4 4 4 4 4 4 4 4 4 4 4\n",
      " 4 4 4 4 4 4 4 4 4 4 4 4 4 4 4 4 4 4 4 4 4 4 4 4 4 4 4 4 4 4 4 4 4 4 4 4 4\n",
      " 4 4 4 4 4 4 4 4 4 4 4 4 4 4 4 4 4 4 4 4 4 4 4 4 4 4 4 4 4 4 4 4 4 4 4 4 4\n",
      " 4 4 4 4 4 4 4 4 4 4 4 4 4 4 4 4 4 4 4 4 4 4 4 4 4 4 4 4 4 4 4 4 4 4 4 4 4\n",
      " 4 4 4 4 4 4 4 4 4 4 4 4 4 4 4 4 4 4 4 4 4 4 4 4 4 4 4 4 4 4 4 4 4 4 4 4 4\n",
      " 4 4 4 4 4 4 4 4 4 4 4 4 4 4 4 4 4 4 4 4 4 4 4 4 4 4 4 4 4 4 4 4 4 4 4 4 4\n",
      " 4 4 4 4 4 4 4 4 4 4 4 4 4 4 4]\n"
     ]
    }
   ],
   "source": [
    "tram_hog_accum = []\n",
    "\n",
    "for i in tram:\n",
    "    image_colour = mpimg.imread(i)\n",
    "    image_colour = cv2.resize(image_colour, (64, 64))  # Resize image to 64x64\n",
    "    image_grey = cv2.cvtColor(image_colour, cv2.COLOR_BGR2GRAY)\n",
    "    tram_hog_feature, tram_hog_img = hog(image_colour[:,:,0], \n",
    "                                    orientations=11,\n",
    "                                    pixels_per_cell=(16, 16), \n",
    "                                    cells_per_block=(2, 2),  \n",
    "                                    transform_sqrt=False,\n",
    "                                    visualize=True, \n",
    "                                    feature_vector=True) #True\n",
    "    \n",
    "    tram_hog_accum.append(tram_hog_feature)\n",
    "\n",
    "X_tram = np.vstack(tram_hog_accum).astype(np.float64)\n",
    "y_tram = np.full(len(X_tram), 4)\n",
    "\n",
    "print(X_tram.shape)\n",
    "print(y_tram.shape)\n",
    "print(y_tram)"
   ]
  },
  {
   "cell_type": "code",
   "execution_count": null,
   "metadata": {},
   "outputs": [
    {
     "name": "stdout",
     "output_type": "stream",
     "text": [
      "(1127, 396)\n",
      "(1127,)\n",
      "[5 5 5 ... 5 5 5]\n"
     ]
    }
   ],
   "source": [
    "truck_hog_accum = []\n",
    "\n",
    "for i in truck:\n",
    "    image_colour = mpimg.imread(i)\n",
    "    image_grey = cv2.cvtColor(image_colour, cv2.COLOR_BGR2GRAY)\n",
    "    image_colour = cv2.resize(image_colour, (64, 64))  # Resize image to 64x64\n",
    "    truck_hog_feature, truck_hog_img = hog(image_colour[:,:,0], \n",
    "                                    orientations=11,\n",
    "                                    pixels_per_cell=(16, 16), \n",
    "                                    cells_per_block=(2, 2),  \n",
    "                                    transform_sqrt=False,\n",
    "                                    visualize=True, \n",
    "                                    feature_vector=True) #True\n",
    "    \n",
    "    truck_hog_accum.append(truck_hog_feature)\n",
    "\n",
    "X_truck = np.vstack(truck_hog_accum).astype(np.float64)\n",
    "y_truck = np.full(len(X_truck), 5)\n",
    "\n",
    "print(X_truck.shape)\n",
    "print(y_truck.shape)\n",
    "print(y_truck)"
   ]
  },
  {
   "cell_type": "code",
   "execution_count": null,
   "metadata": {},
   "outputs": [
    {
     "name": "stdout",
     "output_type": "stream",
     "text": [
      "(2560, 396)\n",
      "(2560,)\n",
      "[6 6 6 ... 6 6 6]\n"
     ]
    }
   ],
   "source": [
    "van_hog_accum = []\n",
    "\n",
    "for i in van:\n",
    "    image_colour = mpimg.imread(i)\n",
    "    image_grey = cv2.cvtColor(image_colour, cv2.COLOR_BGR2GRAY)\n",
    "    image_colour = cv2.resize(image_colour, (64, 64))  # Resize image to 64x64\n",
    "    van_hog_feature, van_hog_img = hog(image_colour[:,:,0], \n",
    "                                    orientations=11,\n",
    "                                    pixels_per_cell=(16, 16), \n",
    "                                    cells_per_block=(2, 2),  \n",
    "                                    transform_sqrt=False,\n",
    "                                    visualize=True, \n",
    "                                    feature_vector=True) #True\n",
    "    \n",
    "    van_hog_accum.append(van_hog_feature)\n",
    "\n",
    "X_van = np.vstack(van_hog_accum).astype(np.float64)\n",
    "y_van = np.full(len(X_van), 6)\n",
    "\n",
    "X_van = np.vstack(van_hog_accum).astype(np.float64)\n",
    "y_van = np.full(len(X_van), 6)\n",
    "\n",
    "print(X_van.shape)\n",
    "print(y_van.shape)\n",
    "print(y_van)"
   ]
  },
  {
   "cell_type": "code",
   "execution_count": null,
   "metadata": {},
   "outputs": [
    {
     "ename": "ValueError",
     "evalue": "cannot reshape array of size 12288 into shape (22,18)",
     "output_type": "error",
     "traceback": [
      "\u001b[1;31m---------------------------------------------------------------------------\u001b[0m",
      "\u001b[1;31mValueError\u001b[0m                                Traceback (most recent call last)",
      "Cell \u001b[1;32mIn[199], line 7\u001b[0m\n\u001b[0;32m      4\u001b[0m fig\u001b[38;5;241m.\u001b[39msubplots_adjust(hspace\u001b[38;5;241m=\u001b[39m\u001b[38;5;241m0.6\u001b[39m, wspace\u001b[38;5;241m=\u001b[39m\u001b[38;5;241m0.3\u001b[39m)\n\u001b[0;32m      6\u001b[0m \u001b[38;5;28;01mfor\u001b[39;00m i, ax \u001b[38;5;129;01min\u001b[39;00m \u001b[38;5;28menumerate\u001b[39m(axes\u001b[38;5;241m.\u001b[39mflat):\n\u001b[1;32m----> 7\u001b[0m     image \u001b[38;5;241m=\u001b[39m \u001b[43mX_train\u001b[49m\u001b[43m[\u001b[49m\u001b[43mi\u001b[49m\u001b[43m]\u001b[49m\u001b[38;5;241;43m.\u001b[39;49m\u001b[43mreshape\u001b[49m\u001b[43m(\u001b[49m\u001b[38;5;241;43m22\u001b[39;49m\u001b[43m,\u001b[49m\u001b[43m \u001b[49m\u001b[38;5;241;43m18\u001b[39;49m\u001b[43m)\u001b[49m  \u001b[38;5;66;03m# 32 the dimensions as needed\u001b[39;00m\n\u001b[0;32m      8\u001b[0m     ax\u001b[38;5;241m.\u001b[39mimshow(image)\n\u001b[0;32m     10\u001b[0m     xlabel \u001b[38;5;241m=\u001b[39m \u001b[38;5;124m\"\u001b[39m\u001b[38;5;124mclass: \u001b[39m\u001b[38;5;132;01m{0}\u001b[39;00m\u001b[38;5;124m\"\u001b[39m\u001b[38;5;241m.\u001b[39mformat(class_names[y_train[i]\u001b[38;5;241m.\u001b[39margmax()])\n",
      "\u001b[1;31mValueError\u001b[0m: cannot reshape array of size 12288 into shape (22,18)"
     ]
    },
    {
     "data": {
      "image/png": "[encoded data removed]",
      "text/plain": [
       "<Figure size 640x480 with 9 Axes>"
      ]
     },
     "metadata": {},
     "output_type": "display_data"
    }
   ],
   "source": [
    "class_names = ['car', 'no_object', 'dontcare', 'misc', 'cyclist', 'pedestrian', 'person', 'tram', 'truck', 'van']\n",
    "\n",
    "fig, axes = plt.subplots(3, 3)\n",
    "fig.subplots_adjust(hspace=0.6, wspace=0.3)\n",
    "\n",
    "for i, ax in enumerate(axes.flat):\n",
    "    image = X_train[i].reshape(22, 18)  # 32 the dimensions as needed\n",
    "    ax.imshow(image)\n",
    "\n",
    "    xlabel = \"class: {0}\".format(class_names[y_train[i].argmax()])\n",
    "\n",
    "    # Show the classes as the label on the x-axis\n",
    "    ax.set_xlabel(xlabel)\n",
    "\n",
    "    # Remove ticks from the plot\n",
    "    ax.set_xticks([])\n",
    "    ax.set_yticks([])"
   ]
  },
  {
   "cell_type": "code",
   "execution_count": null,
   "metadata": {},
   "outputs": [],
   "source": [
    "X_train = X_train.astype('float32')\n",
    "X_test = X_test.astype('float32')\n",
    "X_train /= 255\n",
    "X_test /= 255\n",
    "\n",
    "opt = tf.keras.optimizers.RMSprop(learning_rate = 0.0001, decay = 1e-6)\n",
    "\n",
    "model = createModel(X_train.shape[1:])\n",
    "\n",
    "model.compile(loss='categorical_crossentropy', optimizer=opt, metrics=['accuracy'])\n",
    "\n",
    "model.summary()"
   ]
  },
  {
   "cell_type": "code",
   "execution_count": null,
   "metadata": {},
   "outputs": [],
   "source": [
    "start_time = time.time()\n",
    "\n",
    "model.fit(X_train, y_train, batch_size=32, epochs=10, shuffle=True, validation_data=(X_test, y_test))\n",
    "\n",
    "elapsed_time = time.time() - start_time\n",
    "\n",
    "print(\"Elapsed time: {0}\".format(elapsed_time))"
   ]
  },
  {
   "cell_type": "code",
   "execution_count": null,
   "metadata": {},
   "outputs": [],
   "source": [
    "# Try again with max pooling and moe deep learning hidden layers\n",
    "def createModel2(input_shape):\n",
    "    model = Sequential()\n",
    "    model.add(Input(shape = input_shape))\n",
    "    model.add(Conv2D(32, kernel_size=(3, 3), activation='relu', padding='same'))\n",
    "    model.add(Conv2D(32, kernel_size=(3, 3), activation='relu', padding='same'))\n",
    "    model.add(MaxPooling2D(pool_size=(2, 2)))\n",
    "    model.add(Dropout(0.25))\n",
    "\n",
    "    model.add(Conv2D(64, kernel_size=(3, 3), activation='relu', padding='same'))\n",
    "    model.add(Conv2D(64, kernel_size=(3, 3), activation='relu', padding='same'))\n",
    "    model.add(MaxPooling2D(pool_size=(2, 2)))\n",
    "    model.add(Dropout(0.25))\n",
    "\n",
    "    model.add(Conv2D(64, kernel_size=(3, 3), activation='relu', padding='same'))\n",
    "    model.add(Conv2D(64, kernel_size=(3, 3), activation='relu', padding='same'))\n",
    "    model.add(MaxPooling2D(pool_size=(2, 2)))\n",
    "    model.add(Dropout(0.25))\n",
    "\n",
    "    model.add(Flatten())\n",
    "    model.add(Dense(512, activation='relu'))\n",
    "    model.add(Dropout(0.5))\n",
    "    model.add(Dense(10, activation='softmax'))\n",
    "\n",
    "    return model"
   ]
  },
  {
   "cell_type": "code",
   "execution_count": null,
   "metadata": {},
   "outputs": [],
   "source": [
    "X_train = X_train.astype('float32')\n",
    "X_test = X_test.astype('float32')\n",
    "X_train /= 255\n",
    "X_test /= 255\n",
    "\n",
    "opt = tf.keras.optimizers.RMSprop(learning_rate = 0.0001, decay = 1e-6)\n",
    "\n",
    "model = createModel2(X_train.shape[1:])\n",
    "\n",
    "model.compile(loss='categorical_crossentropy', optimizer=opt, metrics=['accuracy'])\n",
    "\n",
    "model.summary()"
   ]
  },
  {
   "cell_type": "code",
   "execution_count": null,
   "metadata": {},
   "outputs": [],
   "source": [
    "start_time = time.time()\n",
    "\n",
    "model.fit(X_train, y_train, batch_size=32, epochs=50, shuffle=True, validation_data=(X_test, y_test))\n",
    "\n",
    "elapsed_time = time.time() - start_time\n",
    "\n",
    "print(\"Elapsed time: {0}\".format(elapsed_time))"
   ]
  },
  {
   "cell_type": "code",
   "execution_count": null,
   "metadata": {},
   "outputs": [],
   "source": [
    "scores = model.evaluate(X_test, y_test, verbose=1)\n",
    "print('Test loss:', scores[0])\n",
    "print('Test accuracy:', scores[1])"
   ]
  },
  {
   "cell_type": "code",
   "execution_count": null,
   "metadata": {},
   "outputs": [],
   "source": [
    "for x in range(100):\n",
    "    test_image = X_test[x,:]\n",
    "    predicted_cat = model.predict(np.array([test_image])).argmax() # argmax returns the index of the max value\n",
    "    label = y_test[x].argmax()\n",
    "    if (predicted_cat != label):\n",
    "        plt.title(f\"Predicted: {class_names[predicted_cat]}, Label: {class_names[label]}\")\n",
    "        plt.imshow(test_image)\n",
    "        plt.show()"
   ]
  },
  {
   "cell_type": "code",
   "execution_count": null,
   "metadata": {},
   "outputs": [],
   "source": [
    "from tensorflow.keras.models import load_model\n",
    "\n",
    "# Load your trained model\n",
    "model = load_model('path_to_your_model.h5')\n",
    "\n",
    "# Function to preprocess frames\n",
    "def preprocess_frame(frame):\n",
    "    # Resize, normalize, and expand dimensions as before\n",
    "    # Adjust according to your model's requirements\n",
    "    frame_resized = cv2.resize(frame, (64, 64))\n",
    "    frame_normalized = frame_resized / 255.0\n",
    "    frame_expanded = np.expand_dims(frame_normalized, axis=0)\n",
    "    return frame_expanded\n",
    "\n",
    "# Function to draw bounding boxes and labels\n",
    "def draw_bounding_boxes(frame, predictions):\n",
    "    height, width, _ = frame.shape\n",
    "    for pred in predictions:\n",
    "        # Assuming `pred` is a tuple of (class_label, confidence, (x_min, y_min, x_max, y_max))\n",
    "        class_label, confidence, bbox = pred\n",
    "        x_min, y_min, x_max, y_max = bbox\n",
    "\n",
    "        # Convert normalized coordinates back to frame size\n",
    "        x_min = int(x_min * width)\n",
    "        y_min = int(y_min * height)\n",
    "        x_max = int(x_max * width)\n",
    "        y_max = int(y_max * height)\n",
    "\n",
    "        # Draw rectangle\n",
    "        cv2.rectangle(frame, (x_min, y_min), (x_max, y_max), (0, 255, 0), 2)\n",
    "        \n",
    "        # Put the label near the rectangle\n",
    "        cv2.putText(frame, f'{class_label}: {confidence:.2f}', (x_min, y_min - 10), cv2.FONT_HERSHEY_SIMPLEX, 0.5, (0, 255, 0), 2)\n",
    "\n",
    "# Capture video from the first webcam\n",
    "cap = cv2.VideoCapture(0)\n",
    "\n",
    "while True:\n",
    "    ret, frame = cap.read()\n",
    "    if not ret:\n",
    "        break\n",
    "\n",
    "    preprocessed_frame = preprocess_frame(frame)\n",
    "    \n",
    "    # Predict using your model\n",
    "    # Make sure to adjust the prediction line to how your model outputs predictions\n",
    "    predictions = model.predict(preprocessed_frame)\n",
    "    \n",
    "    # Translate predictions to labels and bounding boxes here\n",
    "    # This will depend on your model's output format\n",
    "    # For demonstration, let's assume `predictions_to_boxes` will handle this\n",
    "    # predictions = predictions_to_boxes(predictions)\n",
    "    \n",
    "    # Draw bounding boxes and labels on the frame\n",
    "    draw_bounding_boxes(frame, predictions)\n",
    "\n",
    "    cv2.imshow('Frame', frame)\n",
    "    if cv2.waitKey(1) & 0xFF == ord('q'):\n",
    "        break\n",
    "\n",
    "cap.release()\n",
    "cv2.destroyAllWindows()\n"
   ]
  },
  {
   "cell_type": "markdown",
   "metadata": {},
   "source": [
    "Jasleen Bedi\n",
    "\n"
   ]
  }
 ],
 "metadata": {
  "kernelspec": {
   "display_name": "Python 3",
   "language": "python",
   "name": "python3"
  },
  "language_info": {
   "codemirror_mode": {
    "name": "ipython",
    "version": 3
   },
   "file_extension": ".py",
   "mimetype": "text/x-python",
   "name": "python",
   "nbconvert_exporter": "python",
   "pygments_lexer": "ipython3",
   "version": "3.12.2"
  }
 },
 "nbformat": 4,
 "nbformat_minor": 2
}
